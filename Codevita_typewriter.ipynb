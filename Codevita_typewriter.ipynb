{
 "cells": [
  {
   "cell_type": "markdown",
   "metadata": {},
   "source": [
    "## Question\n",
    "Whenever those characters need to be typed he pastes it from the clipboard.\n",
    "In typing whatever is required he needs to make use of paste, backspace and cursor traversal operations.\n",
    "Help him in to minimize the number of operations he needs to do to complete his typing assignment. \n",
    "Each operation has one unit weightage. \n"
   ]
  },
  {
   "cell_type": "markdown",
   "metadata": {},
   "source": [
    "— Constraints \n",
    "  1 <= S <= 16\n",
    "  1 <= T <= 10^4\n",
    "  String T and S will only be comprised of letters a-z and digits 0-9 \n",
    "— Input \n",
    "  First line comains text T to be typed \n",
    "  Second line contains string S of all the faulty keys pasted on clipboard \n",
    "— Output \n",
    "  Print the minimum number of operations required for typing the text T \n",
    "— Time Limit \n",
    "  1"
   ]
  },
  {
   "cell_type": "markdown",
   "metadata": {},
   "source": [
    "— Examples \n",
    "  \n",
    "  Example 1\n",
    "  Input \n",
    "  experience was ultimate \n",
    "  ew \n",
    "  Output \n",
    "  14 \n",
    "  Explanation \n",
    "  experience = (2,2+2+2) = [{p+b} + {p+b} + {p+b} + {p+b}] \n",
    "  was = (4) = [p + m + b + m]\n",
    "  ultimate = (2) = [p + b]  \n",
    "  where p=paste, b=backspace, m=move cursor "
   ]
  },
  {
   "cell_type": "code",
   "execution_count": 1,
   "metadata": {},
   "outputs": [],
   "source": [
    "def key_movements(s):\n",
    "    kl=[]\n",
    "    vl=[]\n",
    "    ct = 0\n",
    "    for j in range(1,len(s)+1):\n",
    "        for i in range(0,j):\n",
    "            k = len(s) +1-j\n",
    "            kl.append(s[i:i+k])\n",
    "            if i==0:\n",
    "                vl.append(j)\n",
    "            elif j==2 and i==1:\n",
    "                ct = j*len(s)\n",
    "                vl.append(ct)\n",
    "            else:\n",
    "                vl.append(ct)\n",
    "        ct  = ct -1\n",
    "    return(kl,vl)"
   ]
  },
  {
   "cell_type": "code",
   "execution_count": 2,
   "metadata": {},
   "outputs": [],
   "source": [
    "def count_min(t,k,v):\n",
    "    ct = 0\n",
    "    for i in range(0,len(k)):\n",
    "        x = t.count(k[i])\n",
    "        ct=ct + x*v[i]\n",
    "        t = t.replace(k[i],\"\")\n",
    "    return(ct)\n"
   ]
  },
  {
   "cell_type": "code",
   "execution_count": 3,
   "metadata": {},
   "outputs": [
    {
     "name": "stdout",
     "output_type": "stream",
     "text": [
      "17\n"
     ]
    }
   ],
   "source": [
    "a= \"su\"\n",
    "t= \"supreme court is the highest judicial court\"\n",
    "k,v= key_movements(a)\n",
    "l= count_min(t,k,v)\n",
    "print(l)"
   ]
  }
 ],
 "metadata": {
  "kernelspec": {
   "display_name": "Python 3",
   "language": "python",
   "name": "python3"
  },
  "language_info": {
   "codemirror_mode": {
    "name": "ipython",
    "version": 3
   },
   "file_extension": ".py",
   "mimetype": "text/x-python",
   "name": "python",
   "nbconvert_exporter": "python",
   "pygments_lexer": "ipython3",
   "version": "3.7.6"
  }
 },
 "nbformat": 4,
 "nbformat_minor": 4
}
